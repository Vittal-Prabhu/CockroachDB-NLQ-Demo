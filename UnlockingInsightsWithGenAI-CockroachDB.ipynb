{
 "cells": [
  {
   "cell_type": "code",
   "execution_count": null,
   "id": "cf6a3550-7ff5-4845-b8c7-ef55ea8fb2b2",
   "metadata": {
    "tags": []
   },
   "outputs": [],
   "source": [
    "import os"
   ]
  },
  {
   "cell_type": "code",
   "execution_count": null,
   "id": "fdbfa562-279f-43d0-8746-cf4c1a7aaff7",
   "metadata": {
    "tags": []
   },
   "outputs": [],
   "source": [
    "# Avoiding tokenizers parallelism error\n",
    "os.environ[\"TOKENIZERS_PARALLELISM\"] = \"false\""
   ]
  },
  {
   "cell_type": "code",
   "execution_count": null,
   "id": "9ae00784-eae5-42df-a998-f8556e9fc619",
   "metadata": {
    "tags": []
   },
   "outputs": [],
   "source": [
    "# Install the latest versions of required packages\n",
    "%pip install langchain openai langchain_experimental langchain-openai -Uq\n",
    "\n",
    "%pip install ipywidgets python-dotenv SQLAlchemy psycopg2-binary -Uq\n",
    "\n",
    "%pip install sqlalchemy-cockroachdb"
   ]
  },
  {
   "cell_type": "code",
   "execution_count": null,
   "id": "28abba22-01b2-4a91-8aef-37e8592c62cc",
   "metadata": {
    "tags": []
   },
   "outputs": [],
   "source": [
    "# List and check the versions of installed packages\n",
    "%pip list | grep \"langchain\\|openai\""
   ]
  },
  {
   "cell_type": "code",
   "execution_count": null,
   "id": "8aeaf103-25c3-465e-8d5b-5934e6ca4967",
   "metadata": {},
   "outputs": [],
   "source": [
    "from langchain import SQLDatabase\n",
    "from langchain_openai import OpenAI\n",
    "from langchain_experimental.sql import SQLDatabaseChain\n",
    "from langchain_experimental.sql.base import SQLDatabaseSequentialChain\n",
    "from sqlalchemy.exc import ProgrammingError"
   ]
  },
  {
   "cell_type": "code",
   "execution_count": null,
   "id": "058358c0-cb02-4f3c-8d84-790a102bf292",
   "metadata": {
    "tags": []
   },
   "outputs": [],
   "source": [
    "%load_ext dotenv\n",
    "%dotenv"
   ]
  },
  {
   "cell_type": "code",
   "execution_count": null,
   "id": "9f549d45-538e-4c53-be34-8f6631eb702c",
   "metadata": {
    "tags": []
   },
   "outputs": [],
   "source": [
    "CCK_DB_NAME = os.environ.get(\"CCK_DB_NAME\")\n",
    "CCK_ENDPOINT = os.environ.get(\"CCK_ENDPOINT\")\n",
    "CCK_PASSWORD = os.environ.get(\"CCK_PASSWORD\")\n",
    "CCK_PORT = os.environ.get(\"CCK_PORT\")\n",
    "CCK_USERNAME = os.environ.get(\"CCK_USERNAME\")\n",
    "CCK_URI = f\"cockroachdb://{CCK_USERNAME}:{CCK_PASSWORD}@{CCK_ENDPOINT}:{CCK_PORT}/{CCK_DB_NAME}?sslmode=verify-full\"\n",
    "OpenAI_API_KEY = os.environ.get(\"OPENAI_API_KEY\")"
   ]
  },
  {
   "cell_type": "code",
   "execution_count": null,
   "id": "739a3e4e-f768-4c78-b8e4-83bbb2010351",
   "metadata": {},
   "outputs": [],
   "source": [
    "# Loading some sample questions \n",
    "Q1 = \"Determine details about the user who ordered most items.\"\n",
    "Q2 = \"Determine order id, date and name of the customer of the most recently placed order\"\n",
    "Q3 = \"List the name of the customers who have placed atleast 5 orders\"\n",
    "Q4 = \"What is price of the most profitable sale and the name of the customer who placed that order?\"\n",
    "Q5 = \"Fetch the most recent order placed by the customer whose id is 282\" "
   ]
  },
  {
   "cell_type": "code",
   "execution_count": null,
   "id": "e20b974d-c93e-41b4-8742-3067feaf9f1a",
   "metadata": {},
   "outputs": [],
   "source": [
    "llm = OpenAI(openai_api_key=OpenAI_API_KEY, model_name=\"gpt-3.5-turbo-instruct\", temperature=0, verbose=True)"
   ]
  },
  {
   "cell_type": "code",
   "execution_count": null,
   "id": "47d60ba4-9e20-4d60-ae44-5661cc426096",
   "metadata": {
    "tags": []
   },
   "outputs": [],
   "source": [
    "db = SQLDatabase.from_uri(CCK_URI)\n",
    "db_chain = SQLDatabaseSequentialChain.from_llm(\n",
    "    llm, db, verbose=True, use_query_checker=True\n",
    ")\n",
    "try:\n",
    "    db_chain.run(Q1)\n",
    "except (ProgrammingError, ValueError) as exc:\n",
    "    print(f\"\\n\\n{exc}\")"
   ]
  },
  {
   "cell_type": "code",
   "execution_count": null,
   "id": "3a711245-6f17-453f-b55a-a12adc994668",
   "metadata": {
    "tags": []
   },
   "outputs": [],
   "source": [
    "table_info = {\n",
    "    \"customers\": \"\"\"CREATE TABLE customers (\n",
    "        customer_id INT8 NOT NULL DEFAULT unique_rowid(),\n",
    "        customer_name VARCHAR(255) NULL,\n",
    "        gender VARCHAR(100) NULL,\n",
    "        age INT8 NULL,\n",
    "        home_address VARCHAR(255) NULL,\n",
    "        zip_code VARCHAR(20) NULL,\n",
    "        city VARCHAR(100) NULL,\n",
    "        state VARCHAR(100) NULL,\n",
    "        country VARCHAR(100) NULL,\n",
    "        CONSTRAINT customers_pkey PRIMARY KEY (customer_id ASC))\n",
    "\n",
    "/*\n",
    "3 rows from customers table:\n",
    "\"customer_id\" \"customer_name\" \"gender\" \"age\" \"home_address\" \"zip_code\" \"city\" \"state\" \"country\"\n",
    "1 \"Leanna Busson\" \"Female\" 30 \"8606 Victoria TerraceSuite 560\" \"5464\" \"Johnstonhaven\" \"Northern Territory\" \"Australia\"\n",
    "2 \"Zabrina Harrowsmith\" \"Genderfluid\" 69 \"8327 Kirlin SummitApt. 461\" \"8223\" \"New Zacharyfort\" \"South Australia\" \"Australia\"\n",
    "3 \"Shina Dullaghan\" \"Polygender\" 59 \"269 Gemma SummitSuite 109\" \"5661\" \"Aliburgh\" \"Australian Capital Territory\" \"Australia\"\n",
    "*/\"\"\",\n",
    "    \"products\": \"\"\"CREATE TABLE products (\n",
    "        product_id INT8 NOT NULL DEFAULT unique_rowid(),\n",
    "        product_type VARCHAR(100) NULL,\n",
    "        product_name VARCHAR(100) NULL,\n",
    "        size VARCHAR(50) NULL,\n",
    "        colour VARCHAR(50) NULL,\n",
    "        price DECIMAL(10,2) NULL,\n",
    "        quantity INT8 NULL,\n",
    "        description VARCHAR(255) NULL,\n",
    "        CONSTRAINT products_pkey PRIMARY KEY (product_id ASC))\n",
    "\n",
    "/*\n",
    "3 rows from products table:\n",
    "\"product_ID\" \"product_type\" \"product_name\" \"size\" \"colour\" \"price\" \"quantity\" \"description\"\n",
    "0 \"Shirt\" \"Oxford Cloth\" \"XS\" \"red\" 114.00 66 \"A red coloured, XS sized, Oxford Cloth Shirt\"\n",
    "1 \"Shirt\" \"Oxford Cloth\" \"S\" \"red\" 114.00 53 \"A red coloured, S sized, Oxford Cloth Shirt\"\n",
    "2 \"Shirt\" \"Oxford Cloth\" \"M\" \"red\" 114.00 54 \"A red coloured, M sized, Oxford Cloth Shirt\"\n",
    "*/\"\"\",\n",
    "    \"orders\": \"\"\"CREATE TABLE orders (\n",
    "        order_id INT8 NOT NULL DEFAULT unique_rowid(),\n",
    "        customer_id INT8 NOT NULL,\n",
    "        payment DECIMAL(10,2) NOT NULL,\n",
    "        order_date DATE NULL DEFAULT current_date(),\n",
    "        delivery_date DATE NULL,\n",
    "        CONSTRAINT orders_pkey PRIMARY KEY (order_id ASC),\n",
    "        CONSTRAINT fk_customer_id FOREIGN KEY (customer_id) REFERENCES public.customers(customer_id))\n",
    "\n",
    "/*\n",
    "3 rows from orders table:\n",
    "\"order_id\" \"customer_id\" \"payment\" \"order_date\" \"delivery_date\"\n",
    "1 64 30811.00 \"2021-08-30\" \"2021-09-24\"\n",
    "2 473 50490.00 \"2021-02-03\" \"2021-02-13\"\n",
    "3 774 46763.00 \"2021-10-08\" \"2021-11-03\"\n",
    "*/\"\"\",\n",
    "    \"sales\": \"\"\"CREATE TABLE sales (\n",
    "        sales_id INT8 NOT NULL DEFAULT unique_rowid(),\n",
    "        order_id INT8 NULL,\n",
    "        product_id INT8 NULL,\n",
    "        price_per_unit DECIMAL(10,2) NULL,\n",
    "        quantity INT8 NULL,\n",
    "        total_price DECIMAL(10,2) NULL,\n",
    "        CONSTRAINT sales_pkey PRIMARY KEY (sales_id ASC),\n",
    "        CONSTRAINT fk_product_id FOREIGN KEY (product_id) REFERENCES public.products(product_id))\n",
    "\n",
    "/*\n",
    "3 rows from sales table:\n",
    "\"sales_id\" \"order_id\" \"product_id\" \"price_per_unit\" \"quantity\" \"total_price\"\n",
    "0 1 218 106.00 2 212.00\n",
    "1 1 481 118.00 1 118.00\n",
    "2 1 2 96.00 3 288.00\n",
    "*/\"\"\",\n",
    "}"
   ]
  },
  {
   "cell_type": "code",
   "execution_count": null,
   "id": "840b2ee4-905c-4e1c-aaa2-1ba33734bfb9",
   "metadata": {},
   "outputs": [],
   "source": [
    "db = SQLDatabase.from_uri(\n",
    "    CCK_URI,\n",
    "    include_tables=[\"customers\", \"orders\", \"products\", \"sales\"],\n",
    "    sample_rows_in_table_info=3,\n",
    "    custom_table_info=table_info,\n",
    ")\n",
    "\n",
    "db_chain = SQLDatabaseSequentialChain.from_llm(\n",
    "    llm, db, verbose=True, use_query_checker=True, top_k=3\n",
    ")\n",
    "\n",
    "try:\n",
    "    db_chain.run(Q2)\n",
    "except (ProgrammingError, ValueError) as exc:\n",
    "    print(f\"\\n\\n{exc}\")"
   ]
  },
  {
   "cell_type": "code",
   "execution_count": null,
   "id": "d4073838-9ab2-4885-a9e6-61ed3cb654e5",
   "metadata": {},
   "outputs": [],
   "source": [
    "from langchain.prompts.prompt import PromptTemplate\n",
    "\n",
    "EXAMPLE_TEMPLATE = \"\"\"Given an input question, please create a syntactically correct {dialect} SQL query to retrieve the required information. Then, execute the query, observe the results, and provide a concise answer.\n",
    "\n",
    "Follow this format strictly:\n",
    "\n",
    "Question: \"Original question here\"\n",
    "SQLQuery: \"SQL query to execute\"\n",
    "SQLResult: \"Results of the SQLQuery\"\n",
    "Answer: \"Final answer based on the SQLResult\"\n",
    "\n",
    "Only reference the following tables:\n",
    "\n",
    "{table_info}\n",
    "\n",
    "Important Notes:\n",
    "- If joins are necessary to answer the question, include them in the query.\n",
    "- Ensure that conditions or filters in the question are correctly applied in the SQL query.\n",
    "\n",
    "Question: {input}\"\"\"\n",
    "\n",
    "PROMPT = PromptTemplate(\n",
    "    input_variables=[\"input\", \"table_info\", \"dialect\"], template=EXAMPLE_TEMPLATE\n",
    ")\n"
   ]
  },
  {
   "cell_type": "code",
   "execution_count": null,
   "id": "40d17f80-3df5-424b-899b-095b07ff9e7c",
   "metadata": {
    "tags": []
   },
   "outputs": [],
   "source": [
    "db = SQLDatabase.from_uri(CCK_URI, include_tables=[\"customers\", \"orders\", \"products\", \"sales\"],)\n",
    "\n",
    "db_chain = SQLDatabaseChain.from_llm(\n",
    "    llm,\n",
    "    db,\n",
    "    prompt=PROMPT,\n",
    "    verbose=True,\n",
    "    use_query_checker=True,\n",
    "    return_intermediate_steps=True,\n",
    ")\n",
    "\n",
    "try:\n",
    "    result = db_chain(Q2)\n",
    "except (ProgrammingError, ValueError) as exc:\n",
    "    print(f\"\\n\\n{exc}\")\n",
    "\n",
    "result[\"intermediate_steps\"]"
   ]
  },
  {
   "cell_type": "code",
   "execution_count": null,
   "id": "5d987c0b-52a3-4765-b377-694f4efedb31",
   "metadata": {
    "tags": []
   },
   "outputs": [],
   "source": [
    "from langchain.agents import create_sql_agent\n",
    "from langchain.agents.agent_toolkits import SQLDatabaseToolkit\n",
    "from langchain.sql_database import SQLDatabase\n",
    "\n",
    "toolkit = SQLDatabaseToolkit(db=db, llm=llm)\n",
    "agent_executor = create_sql_agent(llm=llm, toolkit=toolkit, verbose=True)\n",
    "\n",
    "# Example of describing a table\n",
    "try:\n",
    "    agent_executor.run(\"Describe the products table.\")\n",
    "except (ProgrammingError, ValueError) as exc:\n",
    "    print(f\"\\n\\n{exc}\")"
   ]
  },
  {
   "cell_type": "code",
   "execution_count": null,
   "id": "fd15aa87-1619-46a4-be70-c196a492e768",
   "metadata": {},
   "outputs": [],
   "source": [
    "try:\n",
    "    agent_executor.run(Q4)\n",
    "except (ProgrammingError, ValueError) as exc:\n",
    "    print(f\"\\n\\n{exc}\")"
   ]
  }
 ],
 "metadata": {
  "kernelspec": {
   "display_name": "conda_tensorflow2_p310",
   "language": "python",
   "name": "conda_tensorflow2_p310"
  },
  "language_info": {
   "codemirror_mode": {
    "name": "ipython",
    "version": 3
   },
   "file_extension": ".py",
   "mimetype": "text/x-python",
   "name": "python",
   "nbconvert_exporter": "python",
   "pygments_lexer": "ipython3",
   "version": "3.10.15"
  }
 },
 "nbformat": 4,
 "nbformat_minor": 5
}
